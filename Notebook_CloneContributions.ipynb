{
 "cells": [
  {
   "cell_type": "code",
   "execution_count": 24,
   "metadata": {},
   "outputs": [
    {
     "data": {
      "text/plain": [
       "(371, 371)"
      ]
     },
     "execution_count": 24,
     "metadata": {},
     "output_type": "execute_result"
    }
   ],
   "source": [
    "import requests\n",
    "from bs4 import BeautifulSoup\n",
    "\n",
    "url = \"https://github.com/users/torvalds/contributions\"\n",
    "\n",
    "response = requests.get(url)\n",
    "html = response.text\n",
    "\n",
    "soup = BeautifulSoup(html, \"html.parser\")\n",
    "tbody = soup.find(\"tbody\")\n",
    "rows = tbody.find_all(\"tr\")\n",
    "\n",
    "contributions_td = []\n",
    "contributions_tooltip = []\n",
    "for row in rows:\n",
    "    contributions_td.extend(rows[0].find_all(\"td\")[1:])\n",
    "    contributions_tooltip.extend(rows[0].find_all(\"tool-tip\"))\n",
    "\n",
    "len(contributions_td), len(contributions_tooltip)"
   ]
  },
  {
   "cell_type": "code",
   "execution_count": 32,
   "metadata": {},
   "outputs": [
    {
     "data": {
      "text/plain": [
       "[<td aria-describedby=\"contribution-graph-legend-level-1\" aria-selected=\"false\" class=\"ContributionCalendar-day\" data-date=\"2024-01-07\" data-ix=\"0\" data-level=\"1\" data-view-component=\"true\" id=\"contribution-day-component-0-0\" role=\"gridcell\" style=\"width: 10px\" tabindex=\"0\"></td>,\n",
       " <td aria-describedby=\"contribution-graph-legend-level-0\" aria-selected=\"false\" class=\"ContributionCalendar-day\" data-date=\"2024-01-14\" data-ix=\"1\" data-level=\"0\" data-view-component=\"true\" id=\"contribution-day-component-0-1\" role=\"gridcell\" style=\"width: 10px\" tabindex=\"0\"></td>,\n",
       " <td aria-describedby=\"contribution-graph-legend-level-1\" aria-selected=\"false\" class=\"ContributionCalendar-day\" data-date=\"2024-01-21\" data-ix=\"2\" data-level=\"1\" data-view-component=\"true\" id=\"contribution-day-component-0-2\" role=\"gridcell\" style=\"width: 10px\" tabindex=\"0\"></td>]"
      ]
     },
     "execution_count": 32,
     "metadata": {},
     "output_type": "execute_result"
    }
   ],
   "source": [
    "contributions_td[:3]"
   ]
  },
  {
   "cell_type": "code",
   "execution_count": 33,
   "metadata": {},
   "outputs": [
    {
     "data": {
      "text/plain": [
       "[<tool-tip class=\"sr-only position-absolute\" data-direction=\"n\" data-type=\"label\" data-view-component=\"true\" for=\"contribution-day-component-0-0\" id=\"tooltip-20e7b6e6-f218-4f22-9ccd-a896e81a192d\" popover=\"manual\">1 contribution on January 7th.</tool-tip>,\n",
       " <tool-tip class=\"sr-only position-absolute\" data-direction=\"n\" data-type=\"label\" data-view-component=\"true\" for=\"contribution-day-component-0-1\" id=\"tooltip-07f36cc6-bbb4-488e-a45b-72c0d0ad0e0f\" popover=\"manual\">No contributions on January 14th.</tool-tip>,\n",
       " <tool-tip class=\"sr-only position-absolute\" data-direction=\"n\" data-type=\"label\" data-view-component=\"true\" for=\"contribution-day-component-0-2\" id=\"tooltip-43f48737-ae4a-4bc4-85e2-0b657df70d05\" popover=\"manual\">5 contributions on January 21st.</tool-tip>]"
      ]
     },
     "execution_count": 33,
     "metadata": {},
     "output_type": "execute_result"
    }
   ],
   "source": [
    "contributions_tooltip[:3]"
   ]
  },
  {
   "cell_type": "code",
   "execution_count": 26,
   "metadata": {},
   "outputs": [],
   "source": [
    "assert len(contributions_td) == len(contributions_tooltip)"
   ]
  },
  {
   "cell_type": "code",
   "execution_count": 31,
   "metadata": {},
   "outputs": [
    {
     "data": {
      "text/plain": [
       "{'2024-01-07': 1,\n",
       " '2024-01-14': 0,\n",
       " '2024-01-21': 5,\n",
       " '2024-01-28': 8,\n",
       " '2024-02-04': 10,\n",
       " '2024-02-11': 3,\n",
       " '2024-02-18': 5,\n",
       " '2024-02-25': 10,\n",
       " '2024-03-03': 5,\n",
       " '2024-03-10': 4,\n",
       " '2024-03-17': 7,\n",
       " '2024-03-24': 5,\n",
       " '2024-03-31': 8,\n",
       " '2024-04-07': 5,\n",
       " '2024-04-14': 9,\n",
       " '2024-04-21': 7,\n",
       " '2024-04-28': 4,\n",
       " '2024-05-05': 12,\n",
       " '2024-05-12': 5,\n",
       " '2024-05-19': 8,\n",
       " '2024-05-26': 2,\n",
       " '2024-06-02': 6,\n",
       " '2024-06-09': 4,\n",
       " '2024-06-16': 14,\n",
       " '2024-06-23': 7,\n",
       " '2024-06-30': 11,\n",
       " '2024-07-07': 2,\n",
       " '2024-07-14': 4,\n",
       " '2024-07-21': 6,\n",
       " '2024-07-28': 12,\n",
       " '2024-08-04': 9,\n",
       " '2024-08-11': 9,\n",
       " '2024-08-18': 6,\n",
       " '2024-08-25': 5,\n",
       " '2024-09-01': 15,\n",
       " '2024-09-08': 5,\n",
       " '2024-09-15': 2,\n",
       " '2024-09-22': 5,\n",
       " '2024-09-29': 11,\n",
       " '2024-10-06': 5,\n",
       " '2024-10-13': 5,\n",
       " '2024-10-20': 11,\n",
       " '2024-10-27': 7,\n",
       " '2024-11-03': 14,\n",
       " '2024-11-10': 7,\n",
       " '2024-11-17': 2,\n",
       " '2024-11-24': 0,\n",
       " '2024-12-01': 8,\n",
       " '2024-12-08': 6,\n",
       " '2024-12-15': 8,\n",
       " '2024-12-22': 3,\n",
       " '2024-12-29': 9,\n",
       " '2025-01-05': 4}"
      ]
     },
     "execution_count": 31,
     "metadata": {},
     "output_type": "execute_result"
    }
   ],
   "source": [
    "contributions = {}\n",
    "for i in range(len(contributions_td)):\n",
    "    _date = contributions_td[i][\"data-date\"]\n",
    "    _count = int(contributions_tooltip[i].text.replace(\"No\", \"0\").split(\" \")[0])\n",
    "    contributions[_date] = _count\n",
    "\n",
    "contributions"
   ]
  },
  {
   "cell_type": "code",
   "execution_count": 12,
   "metadata": {},
   "outputs": [
    {
     "data": {
      "text/plain": [
       "371"
      ]
     },
     "execution_count": 12,
     "metadata": {},
     "output_type": "execute_result"
    }
   ],
   "source": []
  }
 ],
 "metadata": {
  "kernelspec": {
   "display_name": ".venv",
   "language": "python",
   "name": "python3"
  },
  "language_info": {
   "codemirror_mode": {
    "name": "ipython",
    "version": 3
   },
   "file_extension": ".py",
   "mimetype": "text/x-python",
   "name": "python",
   "nbconvert_exporter": "python",
   "pygments_lexer": "ipython3",
   "version": "3.13.1"
  }
 },
 "nbformat": 4,
 "nbformat_minor": 2
}
